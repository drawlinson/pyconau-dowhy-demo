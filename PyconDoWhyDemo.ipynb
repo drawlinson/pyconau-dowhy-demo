{
 "cells": [
  {
   "cell_type": "code",
   "execution_count": null,
   "id": "d707e353-d37c-4683-a7ba-902c45be4267",
   "metadata": {},
   "outputs": [],
   "source": [
    "import dowhy\n",
    "import pandas as pd\n",
    "import numpy as np"
   ]
  },
  {
   "cell_type": "markdown",
   "id": "0a812929-bfb3-4de8-a296-db07cab2f957",
   "metadata": {},
   "source": [
    "# Load data\n",
    "This is also the time to do any preprocessing of the data, and / or create variables derived from columns (e.g. mapping categorical data encoded as numbers to indicator variables)."
   ]
  },
  {
   "cell_type": "code",
   "execution_count": null,
   "id": "23cc3f69-eeec-4b02-b451-879200e4b12e",
   "metadata": {},
   "outputs": [],
   "source": [
    "filename = 'lalonde.csv'\n",
    "dataset = pd.read_csv(filename)"
   ]
  },
  {
   "cell_type": "code",
   "execution_count": null,
   "id": "d26713b0-8e0a-44b2-9950-670fb36ec6f0",
   "metadata": {
    "scrolled": true
   },
   "outputs": [],
   "source": [
    "dataset.head(5)"
   ]
  },
  {
   "cell_type": "markdown",
   "id": "eceb95d7-5f6a-4dd5-b500-27eed6795b57",
   "metadata": {},
   "source": [
    "# Causal Model structure\n",
    "In Causal Inference, we rely on prior knowledge of causal model structure. This can be provided in various forms, \n",
    "but in DoWhy, we must define a **DAG** (Directed Acyclic Graph). \n",
    "A **Graph** is a network of **Nodes** (aka vertices) and **Edges** between them.\n",
    "**Directed** means each edge has a direction, from the cause, to the effect. \n",
    "**Acyclic** means the graph must not have cycles (loops). \n",
    "In this case, the Nodes are the columns in the data file, and are also known as **Variables**. \n",
    "We must define the edges here as a string; if your graph is complex you can use the graphical editor [CausalWizard.app](https://CausalWizard.app). "
   ]
  },
  {
   "cell_type": "code",
   "execution_count": null,
   "id": "31ea4d31-46cf-465c-96e5-322d479da51e",
   "metadata": {},
   "outputs": [],
   "source": [
    "g = \"\"\"digraph {\n",
    "\n",
    "Treated;\n",
    "No_Degree;\n",
    "Age;\n",
    "Education_years;\n",
    "Married;\n",
    "Wage_1974;\n",
    "Wage_1978;\n",
    "\n",
    "Wage_1974 -> Treated;\n",
    "No_Degree -> Treated;\n",
    "Education_years -> Treated;\n",
    "Married -> Treated;\n",
    "\n",
    "Wage_1974 -> Wage_1978;\n",
    "No_Degree -> Wage_1978;\n",
    "Education_years -> Wage_1978;\n",
    "Married -> Wage_1978;\n",
    "\n",
    "Age -> Wage_1978;\n",
    "\n",
    "Treated -> Wage_1978;\n",
    "\n",
    "}\"\"\""
   ]
  },
  {
   "cell_type": "markdown",
   "id": "77b3038c-996a-4e99-bc6d-9df678f1a91b",
   "metadata": {},
   "source": [
    "# DoWhy Step 1/4: Create Causal Model"
   ]
  },
  {
   "cell_type": "code",
   "execution_count": null,
   "id": "86974599-d74b-4f4a-a984-be19cc64b152",
   "metadata": {},
   "outputs": [],
   "source": [
    "from dowhy import CausalModel\n",
    "\n",
    "treatment_col = 'Treated'\n",
    "outcome_col = 'Wage_1978'\n",
    "model=CausalModel(\n",
    "    data = dataset,\n",
    "    treatment=treatment_col,\n",
    "    outcome=outcome_col,\n",
    "    graph=g)\n",
    "\n",
    "model.view_model()"
   ]
  },
  {
   "cell_type": "markdown",
   "id": "60a43c47-2e85-4e83-9417-d705a1f6a73c",
   "metadata": {},
   "source": [
    "# DoWhy Step 2/4: Identify effect"
   ]
  },
  {
   "cell_type": "code",
   "execution_count": null,
   "id": "14bd8855-64dc-488f-8b27-689f442489d9",
   "metadata": {},
   "outputs": [],
   "source": [
    "identified_estimand = model.identify_effect(proceed_when_unidentifiable=True)\n",
    "print(identified_estimand)  # Explore methods proposed"
   ]
  },
  {
   "cell_type": "markdown",
   "id": "86e8407a-a6ca-47e4-9014-0ff81ca74acd",
   "metadata": {},
   "source": [
    "# DoWhy Step 3/4: Estimate effect"
   ]
  },
  {
   "cell_type": "code",
   "execution_count": null,
   "id": "a29cb319-ddc2-4d29-bfa2-fa631035dbcc",
   "metadata": {},
   "outputs": [],
   "source": [
    "#method = \"backdoor.propensity_score_weighting\"\n",
    "method = \"backdoor.linear_regression\"\n",
    "\n",
    "desired_effect = \"ate\"\n",
    "\n",
    "estimate = model.estimate_effect(\n",
    "    identified_estimand,\n",
    "    method_name=method,\n",
    "    target_units=desired_effect,                         \n",
    "    method_params={\"weighting_scheme\":\"ips_weight\"})\n",
    "\n",
    "print(\"Causal Estimate is \" + str(estimate.value))\n"
   ]
  },
  {
   "cell_type": "markdown",
   "id": "55f15faf-624a-467f-b3f0-b78b9c6e013c",
   "metadata": {},
   "source": [
    "# DoWhy Step 4/4: Refute effect"
   ]
  },
  {
   "cell_type": "code",
   "execution_count": null,
   "id": "40293f52-0dd8-46a9-adfc-b6fa0fb2e903",
   "metadata": {},
   "outputs": [],
   "source": [
    "refute_placebo_treatment = model.refute_estimate(\n",
    "    identified_estimand,\n",
    "    estimate,\n",
    "    method_name=\"placebo_treatment_refuter\",\n",
    "    placebo_type=\"permute\"\n",
    ")\n",
    "\n",
    "print(refute_placebo_treatment)"
   ]
  },
  {
   "cell_type": "markdown",
   "id": "3a23e1f3-96ac-468c-a45e-63162f2ead61",
   "metadata": {},
   "source": [
    "# Counterfactual outcomes\n",
    "This step is optional, but interesting. You are likely to want to know how to estimate counterfactual scenarios such as \"what would have happened if I had applied the treatment to all the samples?\". You can easily obtain these estimates from your model, using DoWhy.\n",
    "\n",
    "Note: Not all estimators support the do() operator."
   ]
  },
  {
   "cell_type": "code",
   "execution_count": null,
   "id": "f7c73c12-126f-4989-941f-367b257a1916",
   "metadata": {},
   "outputs": [],
   "source": [
    "dataset_copy = model._data.copy()  # copy because doWhy adds columns\n",
    "\n",
    "mean_outcome = dataset_copy.loc[:, outcome_col].mean()\n",
    "print(f'Actual mean outcome: {mean_outcome}')"
   ]
  },
  {
   "cell_type": "code",
   "execution_count": null,
   "id": "6ad74bad-a136-497f-984e-bfb9f91ee372",
   "metadata": {},
   "outputs": [],
   "source": [
    "# \"do(x): Given a value x for the treatment, returns the \n",
    "# expected value of the outcome when the treatment is \n",
    "# intervened to a value x.\"\n",
    "treatment_value_treated = True\n",
    "treatment_value_control = False\n",
    "\n",
    "cf_estimate_control = estimate.estimator.do(\n",
    "    x=treatment_value_control,\n",
    "    data_df=dataset_copy,\n",
    ")\n",
    "print(f'Mean outcome if all control: {cf_estimate_control}')\n",
    "\n",
    "cf_estimate_treated = estimate.estimator.do(\n",
    "    x=treatment_value_treated,\n",
    "    data_df=dataset_copy,\n",
    ")\n",
    "\n",
    "print(f'Mean outcome if all treated: {cf_estimate_treated}')\n"
   ]
  },
  {
   "cell_type": "code",
   "execution_count": null,
   "id": "b61b9006-e1d6-47b7-bd2e-8d46052d73e0",
   "metadata": {},
   "outputs": [],
   "source": []
  }
 ],
 "metadata": {
  "kernelspec": {
   "display_name": "Python 3 (ipykernel)",
   "language": "python",
   "name": "python3"
  },
  "language_info": {
   "codemirror_mode": {
    "name": "ipython",
    "version": 3
   },
   "file_extension": ".py",
   "mimetype": "text/x-python",
   "name": "python",
   "nbconvert_exporter": "python",
   "pygments_lexer": "ipython3",
   "version": "3.9.17"
  }
 },
 "nbformat": 4,
 "nbformat_minor": 5
}
